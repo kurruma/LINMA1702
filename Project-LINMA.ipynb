{
 "cells": [
  {
   "cell_type": "code",
   "execution_count": 2,
   "metadata": {},
   "outputs": [],
   "source": [
    "## imports classiques\n",
    "import numpy as np\n",
    "import matplotlib.pyplot as plt\n",
    "import math \n",
    "import pandas as pd\n",
    "import plotly.graph_objects as go\n",
    "import matplotlib.colors as colors\n",
    "import random\n",
    "colors_list = list(colors._colors_full_map.values())\n",
    "random.shuffle(colors_list)\n",
    "\n",
    "%matplotlib notebook"
   ]
  },
  {
   "cell_type": "code",
   "execution_count": 3,
   "metadata": {},
   "outputs": [],
   "source": [
    "# Importation du solveur\n",
    "from cylp.cy import CyClpSimplex\n",
    "from cylp.py.modeling.CyLPModel import CyLPArray"
   ]
  },
  {
   "cell_type": "code",
   "execution_count": 4,
   "metadata": {},
   "outputs": [],
   "source": [
    "# Importation des donees\n",
    "sites = pd.read_csv('Sites.csv')\n",
    "\n",
    "onshore = sites[sites['capacite offshore']=='Non'].copy()\n",
    "offshore = sites[sites['capacite offshore']=='Oui'].copy()"
   ]
  },
  {
   "cell_type": "code",
   "execution_count": 6,
   "metadata": {},
   "outputs": [],
   "source": [
    "# Modification pour faire les calculs sur un mois\n",
    "N_heures_par_annee = 24*365 \n",
    "N_annees = 1/12 # 1/12 ou lieu de 1\n",
    "N_heures = int(np.ceil(N_heures_par_annee*N_annees))"
   ]
  },
  {
   "cell_type": "code",
   "execution_count": 7,
   "metadata": {},
   "outputs": [],
   "source": [
    "# importation des donnees\n",
    "matrice_rendements_offshore = np.genfromtxt('Rendements_offshore.csv', delimiter=',')[:,:N_heures]\n",
    "matrice_rendements_onshore = np.genfromtxt('Rendements_onshore.csv', delimiter=',')[:,:N_heures]"
   ]
  },
  {
   "cell_type": "code",
   "execution_count": 1,
   "metadata": {},
   "outputs": [
    {
     "ename": "NameError",
     "evalue": "name 'sites' is not defined",
     "output_type": "error",
     "traceback": [
      "\u001b[0;31m---------------------------------------------------------------------------\u001b[0m",
      "\u001b[0;31mNameError\u001b[0m                                 Traceback (most recent call last)",
      "\u001b[0;32m<ipython-input-1-3b183437566e>\u001b[0m in \u001b[0;36m<module>\u001b[0;34m\u001b[0m\n\u001b[1;32m      1\u001b[0m \u001b[0;31m# Puissance des chaque site\u001b[0m\u001b[0;34m\u001b[0m\u001b[0;34m\u001b[0m\u001b[0;34m\u001b[0m\u001b[0m\n\u001b[0;32m----> 2\u001b[0;31m \u001b[0mpui\u001b[0m \u001b[0;34m=\u001b[0m \u001b[0msites\u001b[0m\u001b[0;34m[\u001b[0m\u001b[0;34m'capacites'\u001b[0m\u001b[0;34m]\u001b[0m\u001b[0;34m\u001b[0m\u001b[0;34m\u001b[0m\u001b[0m\n\u001b[0m\u001b[1;32m      3\u001b[0m \u001b[0mpui\u001b[0m \u001b[0;34m=\u001b[0m \u001b[0mnp\u001b[0m\u001b[0;34m.\u001b[0m\u001b[0marray\u001b[0m\u001b[0;34m(\u001b[0m\u001b[0mpui\u001b[0m\u001b[0;34m)\u001b[0m\u001b[0;34m\u001b[0m\u001b[0;34m\u001b[0m\u001b[0m\n\u001b[1;32m      4\u001b[0m \u001b[0;34m\u001b[0m\u001b[0m\n\u001b[1;32m      5\u001b[0m \u001b[0;31m# creation de matrice rendements\u001b[0m\u001b[0;34m\u001b[0m\u001b[0;34m\u001b[0m\u001b[0;34m\u001b[0m\u001b[0m\n",
      "\u001b[0;31mNameError\u001b[0m: name 'sites' is not defined"
     ]
    }
   ],
   "source": [
    "# Puissance des chaque site\n",
    "pui = sites['capacites']\n",
    "pui = np.array(pui)\n",
    "\n",
    "# creation de matrice rendements\n",
    "# 1) cap_of\n",
    "cap_off = sites['capacite offshore']\n",
    "cap_off = np.where(cap_off == 'Oui',1,cap_off)\n",
    "cap_off = np.where(cap_off == 'Non',0,cap_off)\n",
    "\n",
    "# 2) cap_on\n",
    "cap_on = sites['capacite offshore']\n",
    "cap_on = np.where(cap_on == 'Oui',0,cap_on)\n",
    "cap_on = np.where(cap_on == 'Non',1,cap_on)\n",
    "\n",
    "# 3) multiplication\n",
    "mat_off = matrice_rendements_offshore.transpose() * cap_off\n",
    "mat_off = mat_off.transpose()\n",
    "\n",
    "mat_on = matrice_rendements_onshore.transpose() * cap_on\n",
    "mat_on = mat_on.transpose()\n",
    "\n",
    "# 4) addition\n",
    "mat_tot = mat_on + mat_off\n",
    "\n",
    "# matrice de production potentielle d'energie\n",
    "prod = mat_tot.transpose() * pui\n",
    "prod = prod.transpose()"
   ]
  },
  {
   "cell_type": "code",
   "execution_count": null,
   "metadata": {},
   "outputs": [],
   "source": []
  },
  {
   "cell_type": "code",
   "execution_count": null,
   "metadata": {},
   "outputs": [],
   "source": [
    "s = CyClpSimplex()\n",
    "y = s.addVariable('y', 642) # variable bin qui vaut 1 qd on prend le site et 0 sinon\n",
    "\n",
    "#La matrice A est la matrice composee des 1 et 0 des site offshore\n",
    "A = cap_off\n",
    "\n",
    "#La matrice B est composee des puissance de chaque site\n",
    "B = pui\n",
    "\n",
    "#La matrice R est la matrice de rendement de chaque periode (colone) pour chaque site (ligne)\n",
    "R = mat_tot\n",
    "\n",
    "#La matrice X est la matrice des production d'energie de chaque (colone) de chaque site (ligne)\n",
    "X = prod\n",
    "\n",
    "# ajout des contraintes\n",
    "s += A*y <= k # proportion offshore\n",
    "s += B*y == P # puissance totale\n",
    "s += 0 # variablilte\n",
    "\n",
    "#Set the objective function\n",
    "s.objective = -(R*X*Y) # car simplexe minimize tjr\n",
    "\n",
    "# Solve using primal Simplex\n",
    "s.primal()\n",
    "print(s.primalVariableSolution['x'])\n"
   ]
  }
 ],
 "metadata": {
  "kernelspec": {
   "display_name": "Python 3",
   "language": "python",
   "name": "python3"
  },
  "language_info": {
   "codemirror_mode": {
    "name": "ipython",
    "version": 3
   },
   "file_extension": ".py",
   "mimetype": "text/x-python",
   "name": "python",
   "nbconvert_exporter": "python",
   "pygments_lexer": "ipython3",
   "version": "3.7.3"
  }
 },
 "nbformat": 4,
 "nbformat_minor": 2
}
